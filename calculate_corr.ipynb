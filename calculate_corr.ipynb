{
  "nbformat": 4,
  "nbformat_minor": 0,
  "metadata": {
    "colab": {
      "provenance": []
    },
    "kernelspec": {
      "name": "python3",
      "display_name": "Python 3"
    },
    "language_info": {
      "name": "python"
    }
  },
  "cells": [
    {
      "cell_type": "code",
      "source": [
        "import seaborn as sns\n",
        "import pandas as pd\n",
        "\n",
        "df = pd.read_csv(\"/content/sales.csv\")\n",
        "df.head()"
      ],
      "metadata": {
        "colab": {
          "base_uri": "https://localhost:8080/",
          "height": 374
        },
        "id": "ygjao61LdHPO",
        "outputId": "deac25e2-bb2c-483c-e80c-ad9750d8bc4d"
      },
      "execution_count": 11,
      "outputs": [
        {
          "output_type": "execute_result",
          "data": {
            "text/plain": [
              "   Area Code        State Market   Market Size  Profit  Margin  Sales   COGS  \\\n",
              "0        203  Connecticut   East  Small Market   107.0   176.0  292.0  116.0   \n",
              "1        203  Connecticut   East  Small Market    75.0   135.0  225.0   90.0   \n",
              "2        203  Connecticut   East  Small Market   122.0   195.0  325.0  130.0   \n",
              "3        203  Connecticut   East  Small Market   105.0   174.0  289.0  115.0   \n",
              "4        203  Connecticut   East  Small Market   104.0   135.0  223.0   90.0   \n",
              "\n",
              "   Total Expenses  Marketing  Inventory  Budget Profit  Budget COGS  \\\n",
              "0            69.0       38.0      962.0          110.0        110.0   \n",
              "1            60.0       29.0     1148.0           90.0         80.0   \n",
              "2            73.0       42.0     1134.0          130.0        110.0   \n",
              "3            69.0       37.0     1166.0          110.0        100.0   \n",
              "4            56.0       29.0     1148.0           90.0         80.0   \n",
              "\n",
              "   Budget Margin  Budget Sales  ProductId               Date Product Type  \\\n",
              "0          160.0         270.0          2  04/01/10 00:00:00       Coffee   \n",
              "1          130.0         210.0          2  07/01/10 00:00:00       Coffee   \n",
              "2          180.0         290.0          2  11/01/10 00:00:00       Coffee   \n",
              "3          160.0         260.0          2  12/01/10 00:00:00       Coffee   \n",
              "4          130.0         210.0          2  07/01/11 00:00:00       Coffee   \n",
              "\n",
              "     Product     Type  \n",
              "0  Columbian  Regular  \n",
              "1  Columbian  Regular  \n",
              "2  Columbian  Regular  \n",
              "3  Columbian  Regular  \n",
              "4  Columbian  Regular  "
            ],
            "text/html": [
              "\n",
              "  <div id=\"df-36bd9db7-3af2-4469-a852-24b28907b0f9\">\n",
              "    <div class=\"colab-df-container\">\n",
              "      <div>\n",
              "<style scoped>\n",
              "    .dataframe tbody tr th:only-of-type {\n",
              "        vertical-align: middle;\n",
              "    }\n",
              "\n",
              "    .dataframe tbody tr th {\n",
              "        vertical-align: top;\n",
              "    }\n",
              "\n",
              "    .dataframe thead th {\n",
              "        text-align: right;\n",
              "    }\n",
              "</style>\n",
              "<table border=\"1\" class=\"dataframe\">\n",
              "  <thead>\n",
              "    <tr style=\"text-align: right;\">\n",
              "      <th></th>\n",
              "      <th>Area Code</th>\n",
              "      <th>State</th>\n",
              "      <th>Market</th>\n",
              "      <th>Market Size</th>\n",
              "      <th>Profit</th>\n",
              "      <th>Margin</th>\n",
              "      <th>Sales</th>\n",
              "      <th>COGS</th>\n",
              "      <th>Total Expenses</th>\n",
              "      <th>Marketing</th>\n",
              "      <th>Inventory</th>\n",
              "      <th>Budget Profit</th>\n",
              "      <th>Budget COGS</th>\n",
              "      <th>Budget Margin</th>\n",
              "      <th>Budget Sales</th>\n",
              "      <th>ProductId</th>\n",
              "      <th>Date</th>\n",
              "      <th>Product Type</th>\n",
              "      <th>Product</th>\n",
              "      <th>Type</th>\n",
              "    </tr>\n",
              "  </thead>\n",
              "  <tbody>\n",
              "    <tr>\n",
              "      <th>0</th>\n",
              "      <td>203</td>\n",
              "      <td>Connecticut</td>\n",
              "      <td>East</td>\n",
              "      <td>Small Market</td>\n",
              "      <td>107.0</td>\n",
              "      <td>176.0</td>\n",
              "      <td>292.0</td>\n",
              "      <td>116.0</td>\n",
              "      <td>69.0</td>\n",
              "      <td>38.0</td>\n",
              "      <td>962.0</td>\n",
              "      <td>110.0</td>\n",
              "      <td>110.0</td>\n",
              "      <td>160.0</td>\n",
              "      <td>270.0</td>\n",
              "      <td>2</td>\n",
              "      <td>04/01/10 00:00:00</td>\n",
              "      <td>Coffee</td>\n",
              "      <td>Columbian</td>\n",
              "      <td>Regular</td>\n",
              "    </tr>\n",
              "    <tr>\n",
              "      <th>1</th>\n",
              "      <td>203</td>\n",
              "      <td>Connecticut</td>\n",
              "      <td>East</td>\n",
              "      <td>Small Market</td>\n",
              "      <td>75.0</td>\n",
              "      <td>135.0</td>\n",
              "      <td>225.0</td>\n",
              "      <td>90.0</td>\n",
              "      <td>60.0</td>\n",
              "      <td>29.0</td>\n",
              "      <td>1148.0</td>\n",
              "      <td>90.0</td>\n",
              "      <td>80.0</td>\n",
              "      <td>130.0</td>\n",
              "      <td>210.0</td>\n",
              "      <td>2</td>\n",
              "      <td>07/01/10 00:00:00</td>\n",
              "      <td>Coffee</td>\n",
              "      <td>Columbian</td>\n",
              "      <td>Regular</td>\n",
              "    </tr>\n",
              "    <tr>\n",
              "      <th>2</th>\n",
              "      <td>203</td>\n",
              "      <td>Connecticut</td>\n",
              "      <td>East</td>\n",
              "      <td>Small Market</td>\n",
              "      <td>122.0</td>\n",
              "      <td>195.0</td>\n",
              "      <td>325.0</td>\n",
              "      <td>130.0</td>\n",
              "      <td>73.0</td>\n",
              "      <td>42.0</td>\n",
              "      <td>1134.0</td>\n",
              "      <td>130.0</td>\n",
              "      <td>110.0</td>\n",
              "      <td>180.0</td>\n",
              "      <td>290.0</td>\n",
              "      <td>2</td>\n",
              "      <td>11/01/10 00:00:00</td>\n",
              "      <td>Coffee</td>\n",
              "      <td>Columbian</td>\n",
              "      <td>Regular</td>\n",
              "    </tr>\n",
              "    <tr>\n",
              "      <th>3</th>\n",
              "      <td>203</td>\n",
              "      <td>Connecticut</td>\n",
              "      <td>East</td>\n",
              "      <td>Small Market</td>\n",
              "      <td>105.0</td>\n",
              "      <td>174.0</td>\n",
              "      <td>289.0</td>\n",
              "      <td>115.0</td>\n",
              "      <td>69.0</td>\n",
              "      <td>37.0</td>\n",
              "      <td>1166.0</td>\n",
              "      <td>110.0</td>\n",
              "      <td>100.0</td>\n",
              "      <td>160.0</td>\n",
              "      <td>260.0</td>\n",
              "      <td>2</td>\n",
              "      <td>12/01/10 00:00:00</td>\n",
              "      <td>Coffee</td>\n",
              "      <td>Columbian</td>\n",
              "      <td>Regular</td>\n",
              "    </tr>\n",
              "    <tr>\n",
              "      <th>4</th>\n",
              "      <td>203</td>\n",
              "      <td>Connecticut</td>\n",
              "      <td>East</td>\n",
              "      <td>Small Market</td>\n",
              "      <td>104.0</td>\n",
              "      <td>135.0</td>\n",
              "      <td>223.0</td>\n",
              "      <td>90.0</td>\n",
              "      <td>56.0</td>\n",
              "      <td>29.0</td>\n",
              "      <td>1148.0</td>\n",
              "      <td>90.0</td>\n",
              "      <td>80.0</td>\n",
              "      <td>130.0</td>\n",
              "      <td>210.0</td>\n",
              "      <td>2</td>\n",
              "      <td>07/01/11 00:00:00</td>\n",
              "      <td>Coffee</td>\n",
              "      <td>Columbian</td>\n",
              "      <td>Regular</td>\n",
              "    </tr>\n",
              "  </tbody>\n",
              "</table>\n",
              "</div>\n",
              "      <button class=\"colab-df-convert\" onclick=\"convertToInteractive('df-36bd9db7-3af2-4469-a852-24b28907b0f9')\"\n",
              "              title=\"Convert this dataframe to an interactive table.\"\n",
              "              style=\"display:none;\">\n",
              "        \n",
              "  <svg xmlns=\"http://www.w3.org/2000/svg\" height=\"24px\"viewBox=\"0 0 24 24\"\n",
              "       width=\"24px\">\n",
              "    <path d=\"M0 0h24v24H0V0z\" fill=\"none\"/>\n",
              "    <path d=\"M18.56 5.44l.94 2.06.94-2.06 2.06-.94-2.06-.94-.94-2.06-.94 2.06-2.06.94zm-11 1L8.5 8.5l.94-2.06 2.06-.94-2.06-.94L8.5 2.5l-.94 2.06-2.06.94zm10 10l.94 2.06.94-2.06 2.06-.94-2.06-.94-.94-2.06-.94 2.06-2.06.94z\"/><path d=\"M17.41 7.96l-1.37-1.37c-.4-.4-.92-.59-1.43-.59-.52 0-1.04.2-1.43.59L10.3 9.45l-7.72 7.72c-.78.78-.78 2.05 0 2.83L4 21.41c.39.39.9.59 1.41.59.51 0 1.02-.2 1.41-.59l7.78-7.78 2.81-2.81c.8-.78.8-2.07 0-2.86zM5.41 20L4 18.59l7.72-7.72 1.47 1.35L5.41 20z\"/>\n",
              "  </svg>\n",
              "      </button>\n",
              "      \n",
              "  <style>\n",
              "    .colab-df-container {\n",
              "      display:flex;\n",
              "      flex-wrap:wrap;\n",
              "      gap: 12px;\n",
              "    }\n",
              "\n",
              "    .colab-df-convert {\n",
              "      background-color: #E8F0FE;\n",
              "      border: none;\n",
              "      border-radius: 50%;\n",
              "      cursor: pointer;\n",
              "      display: none;\n",
              "      fill: #1967D2;\n",
              "      height: 32px;\n",
              "      padding: 0 0 0 0;\n",
              "      width: 32px;\n",
              "    }\n",
              "\n",
              "    .colab-df-convert:hover {\n",
              "      background-color: #E2EBFA;\n",
              "      box-shadow: 0px 1px 2px rgba(60, 64, 67, 0.3), 0px 1px 3px 1px rgba(60, 64, 67, 0.15);\n",
              "      fill: #174EA6;\n",
              "    }\n",
              "\n",
              "    [theme=dark] .colab-df-convert {\n",
              "      background-color: #3B4455;\n",
              "      fill: #D2E3FC;\n",
              "    }\n",
              "\n",
              "    [theme=dark] .colab-df-convert:hover {\n",
              "      background-color: #434B5C;\n",
              "      box-shadow: 0px 1px 3px 1px rgba(0, 0, 0, 0.15);\n",
              "      filter: drop-shadow(0px 1px 2px rgba(0, 0, 0, 0.3));\n",
              "      fill: #FFFFFF;\n",
              "    }\n",
              "  </style>\n",
              "\n",
              "      <script>\n",
              "        const buttonEl =\n",
              "          document.querySelector('#df-36bd9db7-3af2-4469-a852-24b28907b0f9 button.colab-df-convert');\n",
              "        buttonEl.style.display =\n",
              "          google.colab.kernel.accessAllowed ? 'block' : 'none';\n",
              "\n",
              "        async function convertToInteractive(key) {\n",
              "          const element = document.querySelector('#df-36bd9db7-3af2-4469-a852-24b28907b0f9');\n",
              "          const dataTable =\n",
              "            await google.colab.kernel.invokeFunction('convertToInteractive',\n",
              "                                                     [key], {});\n",
              "          if (!dataTable) return;\n",
              "\n",
              "          const docLinkHtml = 'Like what you see? Visit the ' +\n",
              "            '<a target=\"_blank\" href=https://colab.research.google.com/notebooks/data_table.ipynb>data table notebook</a>'\n",
              "            + ' to learn more about interactive tables.';\n",
              "          element.innerHTML = '';\n",
              "          dataTable['output_type'] = 'display_data';\n",
              "          await google.colab.output.renderOutput(dataTable, element);\n",
              "          const docLink = document.createElement('div');\n",
              "          docLink.innerHTML = docLinkHtml;\n",
              "          element.appendChild(docLink);\n",
              "        }\n",
              "      </script>\n",
              "    </div>\n",
              "  </div>\n",
              "  "
            ]
          },
          "metadata": {},
          "execution_count": 11
        }
      ]
    },
    {
      "cell_type": "code",
      "source": [
        "import matplotlib.pyplot as plt\n",
        "plt.title(\"Hubungan antara Sales dengan Marketing ($)\")\n",
        "plt.xlabel(\"Marketing ($)\")\n",
        "plt.ylabel(\"Sales ($)\")\n",
        "sns.scatterplot(x=df['Sales'], y=df['Marketing'])"
      ],
      "metadata": {
        "colab": {
          "base_uri": "https://localhost:8080/",
          "height": 312
        },
        "id": "gP2uWER1dTbg",
        "outputId": "4ca6b2a4-27a4-4919-c7d6-4754b3844619"
      },
      "execution_count": 12,
      "outputs": [
        {
          "output_type": "execute_result",
          "data": {
            "text/plain": [
              "<matplotlib.axes._subplots.AxesSubplot at 0x7f2f26dd9070>"
            ]
          },
          "metadata": {},
          "execution_count": 12
        },
        {
          "output_type": "display_data",
          "data": {
            "text/plain": [
              "<Figure size 432x288 with 1 Axes>"
            ],
            "image/png": "[encoded data removed]"
          },
          "metadata": {
            "needs_background": "light"
          }
        }
      ]
    },
    {
      "cell_type": "code",
      "source": [
        "sns.heatmap(df.corr())"
      ],
      "metadata": {
        "colab": {
          "base_uri": "https://localhost:8080/",
          "height": 350
        },
        "id": "Bb_qjHrvdbP_",
        "outputId": "8fe5b132-f4c9-43b5-f698-99c332558d9e"
      },
      "execution_count": 13,
      "outputs": [
        {
          "output_type": "execute_result",
          "data": {
            "text/plain": [
              "<matplotlib.axes._subplots.AxesSubplot at 0x7f2f26d49790>"
            ]
          },
          "metadata": {},
          "execution_count": 13
        },
        {
          "output_type": "display_data",
          "data": {
            "text/plain": [
              "<Figure size 432x288 with 2 Axes>"
            ],
            "image/png": "[encoded data removed]"
          },
          "metadata": {
            "needs_background": "light"
          }
        }
      ]
    },
    {
      "cell_type": "code",
      "source": [
        "from scipy.stats import pearsonr\n",
        "\n",
        "corr, _ = pearsonr(df['Marketing'], df['Sales'])\n",
        "print('Korelasi menggunakan Pearsons: %.3f' % corr)"
      ],
      "metadata": {
        "colab": {
          "base_uri": "https://localhost:8080/"
        },
        "id": "bi4JsQFidlFp",
        "outputId": "109e8a2b-93b2-4caf-e88e-caa4b1840b27"
      },
      "execution_count": 14,
      "outputs": [
        {
          "output_type": "stream",
          "name": "stdout",
          "text": [
            "Korelasi menggunakan Pearsons: 0.711\n"
          ]
        }
      ]
    },
    {
      "cell_type": "code",
      "source": [],
      "metadata": {
        "id": "nFgoitBf6Eu7"
      },
      "execution_count": null,
      "outputs": []
    }
  ]
}